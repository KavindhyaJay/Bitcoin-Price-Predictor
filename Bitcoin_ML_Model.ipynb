{
 "cells": [
  {
   "cell_type": "code",
   "execution_count": 1,
   "id": "ab39fe8c-6afc-4fb6-8edc-a3810c9e01fd",
   "metadata": {},
   "outputs": [],
   "source": [
    "import yfinance as yf\n",
    "import pandas as pd\n",
    "import numpy as np\n",
    "import matplotlib.pyplot as plt"
   ]
  },
  {
   "cell_type": "code",
   "execution_count": 21,
   "id": "4f4db299-8136-4b31-8c47-f3b9749b535a",
   "metadata": {},
   "outputs": [
    {
     "name": "stderr",
     "output_type": "stream",
     "text": [
      "[*********************100%***********************]  1 of 1 completed\n"
     ]
    }
   ],
   "source": [
    "data = yf.download('BTC-USD', '2010-01-01', '2025-01-01', auto_adjust=False)"
   ]
  },
  {
   "cell_type": "code",
   "execution_count": 22,
   "id": "238ad709-7a8c-47f3-84d2-e2317ead7509",
   "metadata": {},
   "outputs": [],
   "source": [
    "data=pd.DataFrame(data)"
   ]
  },
  {
   "cell_type": "code",
   "execution_count": 23,
   "id": "3853793a-e375-4711-bb1d-c36b6e1afa1b",
   "metadata": {},
   "outputs": [
    {
     "data": {
      "text/html": [
       "<div>\n",
       "<style scoped>\n",
       "    .dataframe tbody tr th:only-of-type {\n",
       "        vertical-align: middle;\n",
       "    }\n",
       "\n",
       "    .dataframe tbody tr th {\n",
       "        vertical-align: top;\n",
       "    }\n",
       "\n",
       "    .dataframe thead tr th {\n",
       "        text-align: left;\n",
       "    }\n",
       "\n",
       "    .dataframe thead tr:last-of-type th {\n",
       "        text-align: right;\n",
       "    }\n",
       "</style>\n",
       "<table border=\"1\" class=\"dataframe\">\n",
       "  <thead>\n",
       "    <tr>\n",
       "      <th>Price</th>\n",
       "      <th>Adj Close</th>\n",
       "      <th>Close</th>\n",
       "      <th>High</th>\n",
       "      <th>Low</th>\n",
       "      <th>Open</th>\n",
       "      <th>Volume</th>\n",
       "    </tr>\n",
       "    <tr>\n",
       "      <th>Ticker</th>\n",
       "      <th>BTC-USD</th>\n",
       "      <th>BTC-USD</th>\n",
       "      <th>BTC-USD</th>\n",
       "      <th>BTC-USD</th>\n",
       "      <th>BTC-USD</th>\n",
       "      <th>BTC-USD</th>\n",
       "    </tr>\n",
       "    <tr>\n",
       "      <th>Date</th>\n",
       "      <th></th>\n",
       "      <th></th>\n",
       "      <th></th>\n",
       "      <th></th>\n",
       "      <th></th>\n",
       "      <th></th>\n",
       "    </tr>\n",
       "  </thead>\n",
       "  <tbody>\n",
       "    <tr>\n",
       "      <th>2014-09-17</th>\n",
       "      <td>457.334015</td>\n",
       "      <td>457.334015</td>\n",
       "      <td>468.174011</td>\n",
       "      <td>452.421997</td>\n",
       "      <td>465.864014</td>\n",
       "      <td>21056800</td>\n",
       "    </tr>\n",
       "    <tr>\n",
       "      <th>2014-09-18</th>\n",
       "      <td>424.440002</td>\n",
       "      <td>424.440002</td>\n",
       "      <td>456.859985</td>\n",
       "      <td>413.104004</td>\n",
       "      <td>456.859985</td>\n",
       "      <td>34483200</td>\n",
       "    </tr>\n",
       "    <tr>\n",
       "      <th>2014-09-19</th>\n",
       "      <td>394.795990</td>\n",
       "      <td>394.795990</td>\n",
       "      <td>427.834991</td>\n",
       "      <td>384.532013</td>\n",
       "      <td>424.102997</td>\n",
       "      <td>37919700</td>\n",
       "    </tr>\n",
       "    <tr>\n",
       "      <th>2014-09-20</th>\n",
       "      <td>408.903992</td>\n",
       "      <td>408.903992</td>\n",
       "      <td>423.295990</td>\n",
       "      <td>389.882996</td>\n",
       "      <td>394.673004</td>\n",
       "      <td>36863600</td>\n",
       "    </tr>\n",
       "    <tr>\n",
       "      <th>2014-09-21</th>\n",
       "      <td>398.821014</td>\n",
       "      <td>398.821014</td>\n",
       "      <td>412.425995</td>\n",
       "      <td>393.181000</td>\n",
       "      <td>408.084991</td>\n",
       "      <td>26580100</td>\n",
       "    </tr>\n",
       "    <tr>\n",
       "      <th>...</th>\n",
       "      <td>...</td>\n",
       "      <td>...</td>\n",
       "      <td>...</td>\n",
       "      <td>...</td>\n",
       "      <td>...</td>\n",
       "      <td>...</td>\n",
       "    </tr>\n",
       "    <tr>\n",
       "      <th>2024-12-27</th>\n",
       "      <td>94164.859375</td>\n",
       "      <td>94164.859375</td>\n",
       "      <td>97294.843750</td>\n",
       "      <td>93310.742188</td>\n",
       "      <td>95704.976562</td>\n",
       "      <td>52419934565</td>\n",
       "    </tr>\n",
       "    <tr>\n",
       "      <th>2024-12-28</th>\n",
       "      <td>95163.929688</td>\n",
       "      <td>95163.929688</td>\n",
       "      <td>95525.898438</td>\n",
       "      <td>94014.289062</td>\n",
       "      <td>94160.187500</td>\n",
       "      <td>24107436185</td>\n",
       "    </tr>\n",
       "    <tr>\n",
       "      <th>2024-12-29</th>\n",
       "      <td>93530.226562</td>\n",
       "      <td>93530.226562</td>\n",
       "      <td>95174.875000</td>\n",
       "      <td>92881.789062</td>\n",
       "      <td>95174.054688</td>\n",
       "      <td>29635885267</td>\n",
       "    </tr>\n",
       "    <tr>\n",
       "      <th>2024-12-30</th>\n",
       "      <td>92643.210938</td>\n",
       "      <td>92643.210938</td>\n",
       "      <td>94903.320312</td>\n",
       "      <td>91317.132812</td>\n",
       "      <td>93527.195312</td>\n",
       "      <td>56188003691</td>\n",
       "    </tr>\n",
       "    <tr>\n",
       "      <th>2024-12-31</th>\n",
       "      <td>93429.203125</td>\n",
       "      <td>93429.203125</td>\n",
       "      <td>96090.601562</td>\n",
       "      <td>91914.031250</td>\n",
       "      <td>92643.250000</td>\n",
       "      <td>43625106843</td>\n",
       "    </tr>\n",
       "  </tbody>\n",
       "</table>\n",
       "<p>3759 rows × 6 columns</p>\n",
       "</div>"
      ],
      "text/plain": [
       "Price          Adj Close         Close          High           Low  \\\n",
       "Ticker           BTC-USD       BTC-USD       BTC-USD       BTC-USD   \n",
       "Date                                                                 \n",
       "2014-09-17    457.334015    457.334015    468.174011    452.421997   \n",
       "2014-09-18    424.440002    424.440002    456.859985    413.104004   \n",
       "2014-09-19    394.795990    394.795990    427.834991    384.532013   \n",
       "2014-09-20    408.903992    408.903992    423.295990    389.882996   \n",
       "2014-09-21    398.821014    398.821014    412.425995    393.181000   \n",
       "...                  ...           ...           ...           ...   \n",
       "2024-12-27  94164.859375  94164.859375  97294.843750  93310.742188   \n",
       "2024-12-28  95163.929688  95163.929688  95525.898438  94014.289062   \n",
       "2024-12-29  93530.226562  93530.226562  95174.875000  92881.789062   \n",
       "2024-12-30  92643.210938  92643.210938  94903.320312  91317.132812   \n",
       "2024-12-31  93429.203125  93429.203125  96090.601562  91914.031250   \n",
       "\n",
       "Price               Open       Volume  \n",
       "Ticker           BTC-USD      BTC-USD  \n",
       "Date                                   \n",
       "2014-09-17    465.864014     21056800  \n",
       "2014-09-18    456.859985     34483200  \n",
       "2014-09-19    424.102997     37919700  \n",
       "2014-09-20    394.673004     36863600  \n",
       "2014-09-21    408.084991     26580100  \n",
       "...                  ...          ...  \n",
       "2024-12-27  95704.976562  52419934565  \n",
       "2024-12-28  94160.187500  24107436185  \n",
       "2024-12-29  95174.054688  29635885267  \n",
       "2024-12-30  93527.195312  56188003691  \n",
       "2024-12-31  92643.250000  43625106843  \n",
       "\n",
       "[3759 rows x 6 columns]"
      ]
     },
     "execution_count": 23,
     "metadata": {},
     "output_type": "execute_result"
    }
   ],
   "source": [
    "data"
   ]
  },
  {
   "cell_type": "code",
   "execution_count": 24,
   "id": "dd0ef7e8-2334-4ff8-8d49-e8476e6d52a5",
   "metadata": {},
   "outputs": [],
   "source": [
    "data.reset_index(inplace=True)"
   ]
  },
  {
   "cell_type": "code",
   "execution_count": 25,
   "id": "c7a51c3e-4ac9-4495-985a-57577682d4ea",
   "metadata": {},
   "outputs": [
    {
     "data": {
      "text/html": [
       "<div>\n",
       "<style scoped>\n",
       "    .dataframe tbody tr th:only-of-type {\n",
       "        vertical-align: middle;\n",
       "    }\n",
       "\n",
       "    .dataframe tbody tr th {\n",
       "        vertical-align: top;\n",
       "    }\n",
       "\n",
       "    .dataframe thead tr th {\n",
       "        text-align: left;\n",
       "    }\n",
       "</style>\n",
       "<table border=\"1\" class=\"dataframe\">\n",
       "  <thead>\n",
       "    <tr>\n",
       "      <th>Price</th>\n",
       "      <th>Date</th>\n",
       "      <th>Adj Close</th>\n",
       "      <th>Close</th>\n",
       "      <th>High</th>\n",
       "      <th>Low</th>\n",
       "      <th>Open</th>\n",
       "      <th>Volume</th>\n",
       "    </tr>\n",
       "    <tr>\n",
       "      <th>Ticker</th>\n",
       "      <th></th>\n",
       "      <th>BTC-USD</th>\n",
       "      <th>BTC-USD</th>\n",
       "      <th>BTC-USD</th>\n",
       "      <th>BTC-USD</th>\n",
       "      <th>BTC-USD</th>\n",
       "      <th>BTC-USD</th>\n",
       "    </tr>\n",
       "  </thead>\n",
       "  <tbody>\n",
       "    <tr>\n",
       "      <th>0</th>\n",
       "      <td>2014-09-17</td>\n",
       "      <td>457.334015</td>\n",
       "      <td>457.334015</td>\n",
       "      <td>468.174011</td>\n",
       "      <td>452.421997</td>\n",
       "      <td>465.864014</td>\n",
       "      <td>21056800</td>\n",
       "    </tr>\n",
       "    <tr>\n",
       "      <th>1</th>\n",
       "      <td>2014-09-18</td>\n",
       "      <td>424.440002</td>\n",
       "      <td>424.440002</td>\n",
       "      <td>456.859985</td>\n",
       "      <td>413.104004</td>\n",
       "      <td>456.859985</td>\n",
       "      <td>34483200</td>\n",
       "    </tr>\n",
       "    <tr>\n",
       "      <th>2</th>\n",
       "      <td>2014-09-19</td>\n",
       "      <td>394.795990</td>\n",
       "      <td>394.795990</td>\n",
       "      <td>427.834991</td>\n",
       "      <td>384.532013</td>\n",
       "      <td>424.102997</td>\n",
       "      <td>37919700</td>\n",
       "    </tr>\n",
       "    <tr>\n",
       "      <th>3</th>\n",
       "      <td>2014-09-20</td>\n",
       "      <td>408.903992</td>\n",
       "      <td>408.903992</td>\n",
       "      <td>423.295990</td>\n",
       "      <td>389.882996</td>\n",
       "      <td>394.673004</td>\n",
       "      <td>36863600</td>\n",
       "    </tr>\n",
       "    <tr>\n",
       "      <th>4</th>\n",
       "      <td>2014-09-21</td>\n",
       "      <td>398.821014</td>\n",
       "      <td>398.821014</td>\n",
       "      <td>412.425995</td>\n",
       "      <td>393.181000</td>\n",
       "      <td>408.084991</td>\n",
       "      <td>26580100</td>\n",
       "    </tr>\n",
       "    <tr>\n",
       "      <th>...</th>\n",
       "      <td>...</td>\n",
       "      <td>...</td>\n",
       "      <td>...</td>\n",
       "      <td>...</td>\n",
       "      <td>...</td>\n",
       "      <td>...</td>\n",
       "      <td>...</td>\n",
       "    </tr>\n",
       "    <tr>\n",
       "      <th>3754</th>\n",
       "      <td>2024-12-27</td>\n",
       "      <td>94164.859375</td>\n",
       "      <td>94164.859375</td>\n",
       "      <td>97294.843750</td>\n",
       "      <td>93310.742188</td>\n",
       "      <td>95704.976562</td>\n",
       "      <td>52419934565</td>\n",
       "    </tr>\n",
       "    <tr>\n",
       "      <th>3755</th>\n",
       "      <td>2024-12-28</td>\n",
       "      <td>95163.929688</td>\n",
       "      <td>95163.929688</td>\n",
       "      <td>95525.898438</td>\n",
       "      <td>94014.289062</td>\n",
       "      <td>94160.187500</td>\n",
       "      <td>24107436185</td>\n",
       "    </tr>\n",
       "    <tr>\n",
       "      <th>3756</th>\n",
       "      <td>2024-12-29</td>\n",
       "      <td>93530.226562</td>\n",
       "      <td>93530.226562</td>\n",
       "      <td>95174.875000</td>\n",
       "      <td>92881.789062</td>\n",
       "      <td>95174.054688</td>\n",
       "      <td>29635885267</td>\n",
       "    </tr>\n",
       "    <tr>\n",
       "      <th>3757</th>\n",
       "      <td>2024-12-30</td>\n",
       "      <td>92643.210938</td>\n",
       "      <td>92643.210938</td>\n",
       "      <td>94903.320312</td>\n",
       "      <td>91317.132812</td>\n",
       "      <td>93527.195312</td>\n",
       "      <td>56188003691</td>\n",
       "    </tr>\n",
       "    <tr>\n",
       "      <th>3758</th>\n",
       "      <td>2024-12-31</td>\n",
       "      <td>93429.203125</td>\n",
       "      <td>93429.203125</td>\n",
       "      <td>96090.601562</td>\n",
       "      <td>91914.031250</td>\n",
       "      <td>92643.250000</td>\n",
       "      <td>43625106843</td>\n",
       "    </tr>\n",
       "  </tbody>\n",
       "</table>\n",
       "<p>3759 rows × 7 columns</p>\n",
       "</div>"
      ],
      "text/plain": [
       "Price        Date     Adj Close         Close          High           Low  \\\n",
       "Ticker                  BTC-USD       BTC-USD       BTC-USD       BTC-USD   \n",
       "0      2014-09-17    457.334015    457.334015    468.174011    452.421997   \n",
       "1      2014-09-18    424.440002    424.440002    456.859985    413.104004   \n",
       "2      2014-09-19    394.795990    394.795990    427.834991    384.532013   \n",
       "3      2014-09-20    408.903992    408.903992    423.295990    389.882996   \n",
       "4      2014-09-21    398.821014    398.821014    412.425995    393.181000   \n",
       "...           ...           ...           ...           ...           ...   \n",
       "3754   2024-12-27  94164.859375  94164.859375  97294.843750  93310.742188   \n",
       "3755   2024-12-28  95163.929688  95163.929688  95525.898438  94014.289062   \n",
       "3756   2024-12-29  93530.226562  93530.226562  95174.875000  92881.789062   \n",
       "3757   2024-12-30  92643.210938  92643.210938  94903.320312  91317.132812   \n",
       "3758   2024-12-31  93429.203125  93429.203125  96090.601562  91914.031250   \n",
       "\n",
       "Price           Open       Volume  \n",
       "Ticker       BTC-USD      BTC-USD  \n",
       "0         465.864014     21056800  \n",
       "1         456.859985     34483200  \n",
       "2         424.102997     37919700  \n",
       "3         394.673004     36863600  \n",
       "4         408.084991     26580100  \n",
       "...              ...          ...  \n",
       "3754    95704.976562  52419934565  \n",
       "3755    94160.187500  24107436185  \n",
       "3756    95174.054688  29635885267  \n",
       "3757    93527.195312  56188003691  \n",
       "3758    92643.250000  43625106843  \n",
       "\n",
       "[3759 rows x 7 columns]"
      ]
     },
     "execution_count": 25,
     "metadata": {},
     "output_type": "execute_result"
    }
   ],
   "source": [
    "data"
   ]
  },
  {
   "cell_type": "code",
   "execution_count": 26,
   "id": "ddf01933-af3f-4b65-a340-c7bd29ff8ae5",
   "metadata": {},
   "outputs": [
    {
     "name": "stderr",
     "output_type": "stream",
     "text": [
      "C:\\Users\\Kavindhya\\AppData\\Local\\Temp\\ipykernel_14720\\2735078579.py:1: PerformanceWarning: dropping on a non-lexsorted multi-index without a level parameter may impact performance.\n",
      "  data.drop(columns=['Date','Adj Close','Open','Low','Volume','High'],inplace=True)\n"
     ]
    }
   ],
   "source": [
    "data.drop(columns=['Date','Adj Close','Open','Low','Volume','High'],inplace=True)"
   ]
  },
  {
   "cell_type": "code",
   "execution_count": 27,
   "id": "eb973a0b-d3e3-45cf-b154-9d88d4722b46",
   "metadata": {},
   "outputs": [
    {
     "data": {
      "text/html": [
       "<div>\n",
       "<style scoped>\n",
       "    .dataframe tbody tr th:only-of-type {\n",
       "        vertical-align: middle;\n",
       "    }\n",
       "\n",
       "    .dataframe tbody tr th {\n",
       "        vertical-align: top;\n",
       "    }\n",
       "\n",
       "    .dataframe thead tr th {\n",
       "        text-align: left;\n",
       "    }\n",
       "</style>\n",
       "<table border=\"1\" class=\"dataframe\">\n",
       "  <thead>\n",
       "    <tr>\n",
       "      <th>Price</th>\n",
       "      <th>Close</th>\n",
       "    </tr>\n",
       "    <tr>\n",
       "      <th>Ticker</th>\n",
       "      <th>BTC-USD</th>\n",
       "    </tr>\n",
       "  </thead>\n",
       "  <tbody>\n",
       "    <tr>\n",
       "      <th>0</th>\n",
       "      <td>457.334015</td>\n",
       "    </tr>\n",
       "    <tr>\n",
       "      <th>1</th>\n",
       "      <td>424.440002</td>\n",
       "    </tr>\n",
       "    <tr>\n",
       "      <th>2</th>\n",
       "      <td>394.795990</td>\n",
       "    </tr>\n",
       "    <tr>\n",
       "      <th>3</th>\n",
       "      <td>408.903992</td>\n",
       "    </tr>\n",
       "    <tr>\n",
       "      <th>4</th>\n",
       "      <td>398.821014</td>\n",
       "    </tr>\n",
       "    <tr>\n",
       "      <th>...</th>\n",
       "      <td>...</td>\n",
       "    </tr>\n",
       "    <tr>\n",
       "      <th>3754</th>\n",
       "      <td>94164.859375</td>\n",
       "    </tr>\n",
       "    <tr>\n",
       "      <th>3755</th>\n",
       "      <td>95163.929688</td>\n",
       "    </tr>\n",
       "    <tr>\n",
       "      <th>3756</th>\n",
       "      <td>93530.226562</td>\n",
       "    </tr>\n",
       "    <tr>\n",
       "      <th>3757</th>\n",
       "      <td>92643.210938</td>\n",
       "    </tr>\n",
       "    <tr>\n",
       "      <th>3758</th>\n",
       "      <td>93429.203125</td>\n",
       "    </tr>\n",
       "  </tbody>\n",
       "</table>\n",
       "<p>3759 rows × 1 columns</p>\n",
       "</div>"
      ],
      "text/plain": [
       "Price          Close\n",
       "Ticker       BTC-USD\n",
       "0         457.334015\n",
       "1         424.440002\n",
       "2         394.795990\n",
       "3         408.903992\n",
       "4         398.821014\n",
       "...              ...\n",
       "3754    94164.859375\n",
       "3755    95163.929688\n",
       "3756    93530.226562\n",
       "3757    92643.210938\n",
       "3758    93429.203125\n",
       "\n",
       "[3759 rows x 1 columns]"
      ]
     },
     "execution_count": 27,
     "metadata": {},
     "output_type": "execute_result"
    }
   ],
   "source": [
    "data"
   ]
  },
  {
   "cell_type": "code",
   "execution_count": 28,
   "id": "b3b419e8-d14b-43cb-98cb-d2537afc14b1",
   "metadata": {},
   "outputs": [
    {
     "data": {
      "text/plain": [
       "<function matplotlib.pyplot.show(close=None, block=None)>"
      ]
     },
     "execution_count": 28,
     "metadata": {},
     "output_type": "execute_result"
    },
    {
     "data": {
      "image/png": "[encoded data removed]",
      "text/plain": [
       "<Figure size 800x1000 with 1 Axes>"
      ]
     },
     "metadata": {},
     "output_type": "display_data"
    }
   ],
   "source": [
    "plt.figure(figsize=(8,10))\n",
    "plt.plot(data)\n",
    "plt.show"
   ]
  },
  {
   "cell_type": "code",
   "execution_count": 29,
   "id": "810f62e7-3069-41f2-bf14-796564f05788",
   "metadata": {},
   "outputs": [],
   "source": [
    "train_data = data[:-100]\n",
    "test_data = data[-100:]"
   ]
  },
  {
   "cell_type": "code",
   "execution_count": 30,
   "id": "d5a9fd2e-5a67-4ca2-8e8d-8ac64c353348",
   "metadata": {},
   "outputs": [
    {
     "data": {
      "text/plain": [
       "(3659, 1)"
      ]
     },
     "execution_count": 30,
     "metadata": {},
     "output_type": "execute_result"
    }
   ],
   "source": [
    "train_data.shape"
   ]
  },
  {
   "cell_type": "code",
   "execution_count": 31,
   "id": "5fb0d4a4-5339-4d69-bdc1-f1c18cad8ee1",
   "metadata": {},
   "outputs": [
    {
     "data": {
      "text/plain": [
       "(100, 1)"
      ]
     },
     "execution_count": 31,
     "metadata": {},
     "output_type": "execute_result"
    }
   ],
   "source": [
    "test_data.shape"
   ]
  },
  {
   "cell_type": "code",
   "execution_count": 32,
   "id": "126939ec-c9f6-4835-b564-4b5bdca70aa0",
   "metadata": {},
   "outputs": [],
   "source": [
    "from sklearn.preprocessing import MinMaxScaler\n",
    "scaler = MinMaxScaler(feature_range=(0,1))"
   ]
  },
  {
   "cell_type": "code",
   "execution_count": 33,
   "id": "700f3082-159e-43d1-b515-c4275a3889c6",
   "metadata": {},
   "outputs": [],
   "source": [
    "train_data_scale = scaler.fit_transform(train_data)"
   ]
  },
  {
   "cell_type": "code",
   "execution_count": 34,
   "id": "0b8bc6c8-3ac6-4e60-a271-de08c9a342b5",
   "metadata": {},
   "outputs": [],
   "source": [
    "base_days = 100"
   ]
  },
  {
   "cell_type": "code",
   "execution_count": 35,
   "id": "6e3d43ef-5bb5-4ed2-bcc2-54be5199ea68",
   "metadata": {},
   "outputs": [],
   "source": [
    "x = []\n",
    "y = []\n",
    "for i in range(base_days,train_data_scale.shape[0]):\n",
    "    x.append(train_data_scale[i-base_days:i])\n",
    "    y.append(train_data_scale[i,0])"
   ]
  },
  {
   "cell_type": "code",
   "execution_count": 36,
   "id": "e4913199-9d62-4068-b19e-190b5f73a16c",
   "metadata": {},
   "outputs": [],
   "source": [
    "x , y = np.array(x) , np.array(y)"
   ]
  },
  {
   "cell_type": "code",
   "execution_count": 37,
   "id": "ad3a6623-f766-48fd-94c0-b5a935e013cd",
   "metadata": {},
   "outputs": [],
   "source": [
    "x = np.reshape(x, (x.shape[0], x.shape[1],1))"
   ]
  },
  {
   "cell_type": "code",
   "execution_count": 38,
   "id": "425976a1-4f58-4429-9cb8-7abb0f239b17",
   "metadata": {},
   "outputs": [],
   "source": [
    "from keras.layers import LSTM, Dense, Dropout\n",
    "from keras.models import Sequential"
   ]
  },
  {
   "cell_type": "code",
   "execution_count": 39,
   "id": "4934a09d-dad5-4edc-98ef-3fe6c579e12d",
   "metadata": {},
   "outputs": [
    {
     "name": "stderr",
     "output_type": "stream",
     "text": [
      "C:\\Users\\Kavindhya\\AppData\\Roaming\\Python\\Python313\\site-packages\\keras\\src\\layers\\rnn\\rnn.py:199: UserWarning: Do not pass an `input_shape`/`input_dim` argument to a layer. When using Sequential models, prefer using an `Input(shape)` object as the first layer in the model instead.\n",
      "  super().__init__(**kwargs)\n"
     ]
    }
   ],
   "source": [
    "model= Sequential()\n",
    "model.add(LSTM(50, activation = 'relu', return_sequences=True, input_shape=(x.shape[1],1)))\n",
    "model.add(Dropout(0.2))\n",
    "model.add(LSTM(60, activation = 'relu', return_sequences=True))\n",
    "model.add(Dropout(0.3))\n",
    "model.add(LSTM(80, activation = 'relu', return_sequences=True))\n",
    "model.add(Dropout(0.4))\n",
    "model.add(LSTM(120, activation = 'relu'))\n",
    "model.add(Dropout(0.5))\n",
    "\n",
    "model.add(Dense(units=1))"
   ]
  },
  {
   "cell_type": "code",
   "execution_count": 40,
   "id": "8cef72b0-a649-4f2f-b4e1-3b23d63333da",
   "metadata": {},
   "outputs": [
    {
     "data": {
      "text/html": [
       "<pre style=\"white-space:pre;overflow-x:auto;line-height:normal;font-family:Menlo,'DejaVu Sans Mono',consolas,'Courier New',monospace\"><span style=\"font-weight: bold\">Model: \"sequential\"</span>\n",
       "</pre>\n"
      ],
      "text/plain": [
       "\u001b[1mModel: \"sequential\"\u001b[0m\n"
      ]
     },
     "metadata": {},
     "output_type": "display_data"
    },
    {
     "data": {
      "text/html": [
       "<pre style=\"white-space:pre;overflow-x:auto;line-height:normal;font-family:Menlo,'DejaVu Sans Mono',consolas,'Courier New',monospace\">┏━━━━━━━━━━━━━━━━━━━━━━━━━━━━━━━━━━━━━━┳━━━━━━━━━━━━━━━━━━━━━━━━━━━━━┳━━━━━━━━━━━━━━━━━┓\n",
       "┃<span style=\"font-weight: bold\"> Layer (type)                         </span>┃<span style=\"font-weight: bold\"> Output Shape                </span>┃<span style=\"font-weight: bold\">         Param # </span>┃\n",
       "┡━━━━━━━━━━━━━━━━━━━━━━━━━━━━━━━━━━━━━━╇━━━━━━━━━━━━━━━━━━━━━━━━━━━━━╇━━━━━━━━━━━━━━━━━┩\n",
       "│ lstm (<span style=\"color: #0087ff; text-decoration-color: #0087ff\">LSTM</span>)                          │ (<span style=\"color: #00d7ff; text-decoration-color: #00d7ff\">None</span>, <span style=\"color: #00af00; text-decoration-color: #00af00\">100</span>, <span style=\"color: #00af00; text-decoration-color: #00af00\">50</span>)             │          <span style=\"color: #00af00; text-decoration-color: #00af00\">10,400</span> │\n",
       "├──────────────────────────────────────┼─────────────────────────────┼─────────────────┤\n",
       "│ dropout (<span style=\"color: #0087ff; text-decoration-color: #0087ff\">Dropout</span>)                    │ (<span style=\"color: #00d7ff; text-decoration-color: #00d7ff\">None</span>, <span style=\"color: #00af00; text-decoration-color: #00af00\">100</span>, <span style=\"color: #00af00; text-decoration-color: #00af00\">50</span>)             │               <span style=\"color: #00af00; text-decoration-color: #00af00\">0</span> │\n",
       "├──────────────────────────────────────┼─────────────────────────────┼─────────────────┤\n",
       "│ lstm_1 (<span style=\"color: #0087ff; text-decoration-color: #0087ff\">LSTM</span>)                        │ (<span style=\"color: #00d7ff; text-decoration-color: #00d7ff\">None</span>, <span style=\"color: #00af00; text-decoration-color: #00af00\">100</span>, <span style=\"color: #00af00; text-decoration-color: #00af00\">60</span>)             │          <span style=\"color: #00af00; text-decoration-color: #00af00\">26,640</span> │\n",
       "├──────────────────────────────────────┼─────────────────────────────┼─────────────────┤\n",
       "│ dropout_1 (<span style=\"color: #0087ff; text-decoration-color: #0087ff\">Dropout</span>)                  │ (<span style=\"color: #00d7ff; text-decoration-color: #00d7ff\">None</span>, <span style=\"color: #00af00; text-decoration-color: #00af00\">100</span>, <span style=\"color: #00af00; text-decoration-color: #00af00\">60</span>)             │               <span style=\"color: #00af00; text-decoration-color: #00af00\">0</span> │\n",
       "├──────────────────────────────────────┼─────────────────────────────┼─────────────────┤\n",
       "│ lstm_2 (<span style=\"color: #0087ff; text-decoration-color: #0087ff\">LSTM</span>)                        │ (<span style=\"color: #00d7ff; text-decoration-color: #00d7ff\">None</span>, <span style=\"color: #00af00; text-decoration-color: #00af00\">100</span>, <span style=\"color: #00af00; text-decoration-color: #00af00\">80</span>)             │          <span style=\"color: #00af00; text-decoration-color: #00af00\">45,120</span> │\n",
       "├──────────────────────────────────────┼─────────────────────────────┼─────────────────┤\n",
       "│ dropout_2 (<span style=\"color: #0087ff; text-decoration-color: #0087ff\">Dropout</span>)                  │ (<span style=\"color: #00d7ff; text-decoration-color: #00d7ff\">None</span>, <span style=\"color: #00af00; text-decoration-color: #00af00\">100</span>, <span style=\"color: #00af00; text-decoration-color: #00af00\">80</span>)             │               <span style=\"color: #00af00; text-decoration-color: #00af00\">0</span> │\n",
       "├──────────────────────────────────────┼─────────────────────────────┼─────────────────┤\n",
       "│ lstm_3 (<span style=\"color: #0087ff; text-decoration-color: #0087ff\">LSTM</span>)                        │ (<span style=\"color: #00d7ff; text-decoration-color: #00d7ff\">None</span>, <span style=\"color: #00af00; text-decoration-color: #00af00\">120</span>)                 │          <span style=\"color: #00af00; text-decoration-color: #00af00\">96,480</span> │\n",
       "├──────────────────────────────────────┼─────────────────────────────┼─────────────────┤\n",
       "│ dropout_3 (<span style=\"color: #0087ff; text-decoration-color: #0087ff\">Dropout</span>)                  │ (<span style=\"color: #00d7ff; text-decoration-color: #00d7ff\">None</span>, <span style=\"color: #00af00; text-decoration-color: #00af00\">120</span>)                 │               <span style=\"color: #00af00; text-decoration-color: #00af00\">0</span> │\n",
       "├──────────────────────────────────────┼─────────────────────────────┼─────────────────┤\n",
       "│ dense (<span style=\"color: #0087ff; text-decoration-color: #0087ff\">Dense</span>)                        │ (<span style=\"color: #00d7ff; text-decoration-color: #00d7ff\">None</span>, <span style=\"color: #00af00; text-decoration-color: #00af00\">1</span>)                   │             <span style=\"color: #00af00; text-decoration-color: #00af00\">121</span> │\n",
       "└──────────────────────────────────────┴─────────────────────────────┴─────────────────┘\n",
       "</pre>\n"
      ],
      "text/plain": [
       "┏━━━━━━━━━━━━━━━━━━━━━━━━━━━━━━━━━━━━━━┳━━━━━━━━━━━━━━━━━━━━━━━━━━━━━┳━━━━━━━━━━━━━━━━━┓\n",
       "┃\u001b[1m \u001b[0m\u001b[1mLayer (type)                        \u001b[0m\u001b[1m \u001b[0m┃\u001b[1m \u001b[0m\u001b[1mOutput Shape               \u001b[0m\u001b[1m \u001b[0m┃\u001b[1m \u001b[0m\u001b[1m        Param #\u001b[0m\u001b[1m \u001b[0m┃\n",
       "┡━━━━━━━━━━━━━━━━━━━━━━━━━━━━━━━━━━━━━━╇━━━━━━━━━━━━━━━━━━━━━━━━━━━━━╇━━━━━━━━━━━━━━━━━┩\n",
       "│ lstm (\u001b[38;5;33mLSTM\u001b[0m)                          │ (\u001b[38;5;45mNone\u001b[0m, \u001b[38;5;34m100\u001b[0m, \u001b[38;5;34m50\u001b[0m)             │          \u001b[38;5;34m10,400\u001b[0m │\n",
       "├──────────────────────────────────────┼─────────────────────────────┼─────────────────┤\n",
       "│ dropout (\u001b[38;5;33mDropout\u001b[0m)                    │ (\u001b[38;5;45mNone\u001b[0m, \u001b[38;5;34m100\u001b[0m, \u001b[38;5;34m50\u001b[0m)             │               \u001b[38;5;34m0\u001b[0m │\n",
       "├──────────────────────────────────────┼─────────────────────────────┼─────────────────┤\n",
       "│ lstm_1 (\u001b[38;5;33mLSTM\u001b[0m)                        │ (\u001b[38;5;45mNone\u001b[0m, \u001b[38;5;34m100\u001b[0m, \u001b[38;5;34m60\u001b[0m)             │          \u001b[38;5;34m26,640\u001b[0m │\n",
       "├──────────────────────────────────────┼─────────────────────────────┼─────────────────┤\n",
       "│ dropout_1 (\u001b[38;5;33mDropout\u001b[0m)                  │ (\u001b[38;5;45mNone\u001b[0m, \u001b[38;5;34m100\u001b[0m, \u001b[38;5;34m60\u001b[0m)             │               \u001b[38;5;34m0\u001b[0m │\n",
       "├──────────────────────────────────────┼─────────────────────────────┼─────────────────┤\n",
       "│ lstm_2 (\u001b[38;5;33mLSTM\u001b[0m)                        │ (\u001b[38;5;45mNone\u001b[0m, \u001b[38;5;34m100\u001b[0m, \u001b[38;5;34m80\u001b[0m)             │          \u001b[38;5;34m45,120\u001b[0m │\n",
       "├──────────────────────────────────────┼─────────────────────────────┼─────────────────┤\n",
       "│ dropout_2 (\u001b[38;5;33mDropout\u001b[0m)                  │ (\u001b[38;5;45mNone\u001b[0m, \u001b[38;5;34m100\u001b[0m, \u001b[38;5;34m80\u001b[0m)             │               \u001b[38;5;34m0\u001b[0m │\n",
       "├──────────────────────────────────────┼─────────────────────────────┼─────────────────┤\n",
       "│ lstm_3 (\u001b[38;5;33mLSTM\u001b[0m)                        │ (\u001b[38;5;45mNone\u001b[0m, \u001b[38;5;34m120\u001b[0m)                 │          \u001b[38;5;34m96,480\u001b[0m │\n",
       "├──────────────────────────────────────┼─────────────────────────────┼─────────────────┤\n",
       "│ dropout_3 (\u001b[38;5;33mDropout\u001b[0m)                  │ (\u001b[38;5;45mNone\u001b[0m, \u001b[38;5;34m120\u001b[0m)                 │               \u001b[38;5;34m0\u001b[0m │\n",
       "├──────────────────────────────────────┼─────────────────────────────┼─────────────────┤\n",
       "│ dense (\u001b[38;5;33mDense\u001b[0m)                        │ (\u001b[38;5;45mNone\u001b[0m, \u001b[38;5;34m1\u001b[0m)                   │             \u001b[38;5;34m121\u001b[0m │\n",
       "└──────────────────────────────────────┴─────────────────────────────┴─────────────────┘\n"
      ]
     },
     "metadata": {},
     "output_type": "display_data"
    },
    {
     "data": {
      "text/html": [
       "<pre style=\"white-space:pre;overflow-x:auto;line-height:normal;font-family:Menlo,'DejaVu Sans Mono',consolas,'Courier New',monospace\"><span style=\"font-weight: bold\"> Total params: </span><span style=\"color: #00af00; text-decoration-color: #00af00\">178,761</span> (698.29 KB)\n",
       "</pre>\n"
      ],
      "text/plain": [
       "\u001b[1m Total params: \u001b[0m\u001b[38;5;34m178,761\u001b[0m (698.29 KB)\n"
      ]
     },
     "metadata": {},
     "output_type": "display_data"
    },
    {
     "data": {
      "text/html": [
       "<pre style=\"white-space:pre;overflow-x:auto;line-height:normal;font-family:Menlo,'DejaVu Sans Mono',consolas,'Courier New',monospace\"><span style=\"font-weight: bold\"> Trainable params: </span><span style=\"color: #00af00; text-decoration-color: #00af00\">178,761</span> (698.29 KB)\n",
       "</pre>\n"
      ],
      "text/plain": [
       "\u001b[1m Trainable params: \u001b[0m\u001b[38;5;34m178,761\u001b[0m (698.29 KB)\n"
      ]
     },
     "metadata": {},
     "output_type": "display_data"
    },
    {
     "data": {
      "text/html": [
       "<pre style=\"white-space:pre;overflow-x:auto;line-height:normal;font-family:Menlo,'DejaVu Sans Mono',consolas,'Courier New',monospace\"><span style=\"font-weight: bold\"> Non-trainable params: </span><span style=\"color: #00af00; text-decoration-color: #00af00\">0</span> (0.00 B)\n",
       "</pre>\n"
      ],
      "text/plain": [
       "\u001b[1m Non-trainable params: \u001b[0m\u001b[38;5;34m0\u001b[0m (0.00 B)\n"
      ]
     },
     "metadata": {},
     "output_type": "display_data"
    }
   ],
   "source": [
    "model.summary()"
   ]
  },
  {
   "cell_type": "code",
   "execution_count": 41,
   "id": "3765e35b-3629-4add-992e-b30601280a13",
   "metadata": {},
   "outputs": [],
   "source": [
    "model.compile(optimizer = 'adam' , loss='mean_squared_error')"
   ]
  },
  {
   "cell_type": "code",
   "execution_count": 42,
   "id": "d4a19544-6219-4129-b2f1-cf0bc13beeb6",
   "metadata": {},
   "outputs": [
    {
     "name": "stdout",
     "output_type": "stream",
     "text": [
      "Epoch 1/50\n",
      "\u001b[1m112/112\u001b[0m \u001b[32m━━━━━━━━━━━━━━━━━━━━\u001b[0m\u001b[37m\u001b[0m \u001b[1m35s\u001b[0m 201ms/step - loss: 0.0180\n",
      "Epoch 2/50\n",
      "\u001b[1m112/112\u001b[0m \u001b[32m━━━━━━━━━━━━━━━━━━━━\u001b[0m\u001b[37m\u001b[0m \u001b[1m22s\u001b[0m 192ms/step - loss: 0.0059\n",
      "Epoch 3/50\n",
      "\u001b[1m112/112\u001b[0m \u001b[32m━━━━━━━━━━━━━━━━━━━━\u001b[0m\u001b[37m\u001b[0m \u001b[1m21s\u001b[0m 188ms/step - loss: 0.0050\n",
      "Epoch 4/50\n",
      "\u001b[1m112/112\u001b[0m \u001b[32m━━━━━━━━━━━━━━━━━━━━\u001b[0m\u001b[37m\u001b[0m \u001b[1m20s\u001b[0m 180ms/step - loss: 0.0051\n",
      "Epoch 5/50\n",
      "\u001b[1m112/112\u001b[0m \u001b[32m━━━━━━━━━━━━━━━━━━━━\u001b[0m\u001b[37m\u001b[0m \u001b[1m22s\u001b[0m 196ms/step - loss: 0.0046\n",
      "Epoch 6/50\n",
      "\u001b[1m112/112\u001b[0m \u001b[32m━━━━━━━━━━━━━━━━━━━━\u001b[0m\u001b[37m\u001b[0m \u001b[1m23s\u001b[0m 209ms/step - loss: 0.0045\n",
      "Epoch 7/50\n",
      "\u001b[1m112/112\u001b[0m \u001b[32m━━━━━━━━━━━━━━━━━━━━\u001b[0m\u001b[37m\u001b[0m \u001b[1m23s\u001b[0m 200ms/step - loss: 0.0039\n",
      "Epoch 8/50\n",
      "\u001b[1m112/112\u001b[0m \u001b[32m━━━━━━━━━━━━━━━━━━━━\u001b[0m\u001b[37m\u001b[0m \u001b[1m22s\u001b[0m 193ms/step - loss: 0.0040\n",
      "Epoch 9/50\n",
      "\u001b[1m112/112\u001b[0m \u001b[32m━━━━━━━━━━━━━━━━━━━━\u001b[0m\u001b[37m\u001b[0m \u001b[1m22s\u001b[0m 194ms/step - loss: 0.0035\n",
      "Epoch 10/50\n",
      "\u001b[1m112/112\u001b[0m \u001b[32m━━━━━━━━━━━━━━━━━━━━\u001b[0m\u001b[37m\u001b[0m \u001b[1m22s\u001b[0m 198ms/step - loss: 0.0041\n",
      "Epoch 11/50\n",
      "\u001b[1m112/112\u001b[0m \u001b[32m━━━━━━━━━━━━━━━━━━━━\u001b[0m\u001b[37m\u001b[0m \u001b[1m22s\u001b[0m 199ms/step - loss: 0.0034\n",
      "Epoch 12/50\n",
      "\u001b[1m112/112\u001b[0m \u001b[32m━━━━━━━━━━━━━━━━━━━━\u001b[0m\u001b[37m\u001b[0m \u001b[1m24s\u001b[0m 209ms/step - loss: 0.0032\n",
      "Epoch 13/50\n",
      "\u001b[1m112/112\u001b[0m \u001b[32m━━━━━━━━━━━━━━━━━━━━\u001b[0m\u001b[37m\u001b[0m \u001b[1m24s\u001b[0m 218ms/step - loss: 0.0031\n",
      "Epoch 14/50\n",
      "\u001b[1m112/112\u001b[0m \u001b[32m━━━━━━━━━━━━━━━━━━━━\u001b[0m\u001b[37m\u001b[0m \u001b[1m24s\u001b[0m 214ms/step - loss: 0.0031\n",
      "Epoch 15/50\n",
      "\u001b[1m112/112\u001b[0m \u001b[32m━━━━━━━━━━━━━━━━━━━━\u001b[0m\u001b[37m\u001b[0m \u001b[1m24s\u001b[0m 212ms/step - loss: 0.0031\n",
      "Epoch 16/50\n",
      "\u001b[1m112/112\u001b[0m \u001b[32m━━━━━━━━━━━━━━━━━━━━\u001b[0m\u001b[37m\u001b[0m \u001b[1m24s\u001b[0m 218ms/step - loss: 0.0031\n",
      "Epoch 17/50\n",
      "\u001b[1m112/112\u001b[0m \u001b[32m━━━━━━━━━━━━━━━━━━━━\u001b[0m\u001b[37m\u001b[0m \u001b[1m23s\u001b[0m 206ms/step - loss: 0.0031\n",
      "Epoch 18/50\n",
      "\u001b[1m112/112\u001b[0m \u001b[32m━━━━━━━━━━━━━━━━━━━━\u001b[0m\u001b[37m\u001b[0m \u001b[1m23s\u001b[0m 207ms/step - loss: 0.0027\n",
      "Epoch 19/50\n",
      "\u001b[1m112/112\u001b[0m \u001b[32m━━━━━━━━━━━━━━━━━━━━\u001b[0m\u001b[37m\u001b[0m \u001b[1m23s\u001b[0m 206ms/step - loss: 0.0028\n",
      "Epoch 20/50\n",
      "\u001b[1m112/112\u001b[0m \u001b[32m━━━━━━━━━━━━━━━━━━━━\u001b[0m\u001b[37m\u001b[0m \u001b[1m23s\u001b[0m 202ms/step - loss: 0.0029\n",
      "Epoch 21/50\n",
      "\u001b[1m112/112\u001b[0m \u001b[32m━━━━━━━━━━━━━━━━━━━━\u001b[0m\u001b[37m\u001b[0m \u001b[1m24s\u001b[0m 210ms/step - loss: 0.0029\n",
      "Epoch 22/50\n",
      "\u001b[1m112/112\u001b[0m \u001b[32m━━━━━━━━━━━━━━━━━━━━\u001b[0m\u001b[37m\u001b[0m \u001b[1m26s\u001b[0m 234ms/step - loss: 0.0029\n",
      "Epoch 23/50\n",
      "\u001b[1m112/112\u001b[0m \u001b[32m━━━━━━━━━━━━━━━━━━━━\u001b[0m\u001b[37m\u001b[0m \u001b[1m25s\u001b[0m 226ms/step - loss: 0.0029\n",
      "Epoch 24/50\n",
      "\u001b[1m112/112\u001b[0m \u001b[32m━━━━━━━━━━━━━━━━━━━━\u001b[0m\u001b[37m\u001b[0m \u001b[1m24s\u001b[0m 217ms/step - loss: 0.0028\n",
      "Epoch 25/50\n",
      "\u001b[1m112/112\u001b[0m \u001b[32m━━━━━━━━━━━━━━━━━━━━\u001b[0m\u001b[37m\u001b[0m \u001b[1m25s\u001b[0m 226ms/step - loss: 0.0029\n",
      "Epoch 26/50\n",
      "\u001b[1m112/112\u001b[0m \u001b[32m━━━━━━━━━━━━━━━━━━━━\u001b[0m\u001b[37m\u001b[0m \u001b[1m23s\u001b[0m 203ms/step - loss: 0.0026\n",
      "Epoch 27/50\n",
      "\u001b[1m112/112\u001b[0m \u001b[32m━━━━━━━━━━━━━━━━━━━━\u001b[0m\u001b[37m\u001b[0m \u001b[1m24s\u001b[0m 212ms/step - loss: 0.0025\n",
      "Epoch 28/50\n",
      "\u001b[1m112/112\u001b[0m \u001b[32m━━━━━━━━━━━━━━━━━━━━\u001b[0m\u001b[37m\u001b[0m \u001b[1m24s\u001b[0m 214ms/step - loss: 0.0028\n",
      "Epoch 29/50\n",
      "\u001b[1m112/112\u001b[0m \u001b[32m━━━━━━━━━━━━━━━━━━━━\u001b[0m\u001b[37m\u001b[0m \u001b[1m23s\u001b[0m 208ms/step - loss: 0.0026\n",
      "Epoch 30/50\n",
      "\u001b[1m112/112\u001b[0m \u001b[32m━━━━━━━━━━━━━━━━━━━━\u001b[0m\u001b[37m\u001b[0m \u001b[1m24s\u001b[0m 216ms/step - loss: 0.0028\n",
      "Epoch 31/50\n",
      "\u001b[1m112/112\u001b[0m \u001b[32m━━━━━━━━━━━━━━━━━━━━\u001b[0m\u001b[37m\u001b[0m \u001b[1m25s\u001b[0m 220ms/step - loss: 0.0026\n",
      "Epoch 32/50\n",
      "\u001b[1m112/112\u001b[0m \u001b[32m━━━━━━━━━━━━━━━━━━━━\u001b[0m\u001b[37m\u001b[0m \u001b[1m25s\u001b[0m 221ms/step - loss: 0.0027\n",
      "Epoch 33/50\n",
      "\u001b[1m112/112\u001b[0m \u001b[32m━━━━━━━━━━━━━━━━━━━━\u001b[0m\u001b[37m\u001b[0m \u001b[1m24s\u001b[0m 217ms/step - loss: 0.0026\n",
      "Epoch 34/50\n",
      "\u001b[1m112/112\u001b[0m \u001b[32m━━━━━━━━━━━━━━━━━━━━\u001b[0m\u001b[37m\u001b[0m \u001b[1m24s\u001b[0m 210ms/step - loss: 0.0027\n",
      "Epoch 35/50\n",
      "\u001b[1m112/112\u001b[0m \u001b[32m━━━━━━━━━━━━━━━━━━━━\u001b[0m\u001b[37m\u001b[0m \u001b[1m23s\u001b[0m 206ms/step - loss: 0.0026\n",
      "Epoch 36/50\n",
      "\u001b[1m112/112\u001b[0m \u001b[32m━━━━━━━━━━━━━━━━━━━━\u001b[0m\u001b[37m\u001b[0m \u001b[1m22s\u001b[0m 194ms/step - loss: 0.0025\n",
      "Epoch 37/50\n",
      "\u001b[1m112/112\u001b[0m \u001b[32m━━━━━━━━━━━━━━━━━━━━\u001b[0m\u001b[37m\u001b[0m \u001b[1m21s\u001b[0m 183ms/step - loss: 0.0026\n",
      "Epoch 38/50\n",
      "\u001b[1m112/112\u001b[0m \u001b[32m━━━━━━━━━━━━━━━━━━━━\u001b[0m\u001b[37m\u001b[0m \u001b[1m22s\u001b[0m 199ms/step - loss: 0.0025\n",
      "Epoch 39/50\n",
      "\u001b[1m112/112\u001b[0m \u001b[32m━━━━━━━━━━━━━━━━━━━━\u001b[0m\u001b[37m\u001b[0m \u001b[1m22s\u001b[0m 199ms/step - loss: 0.0024\n",
      "Epoch 40/50\n",
      "\u001b[1m112/112\u001b[0m \u001b[32m━━━━━━━━━━━━━━━━━━━━\u001b[0m\u001b[37m\u001b[0m \u001b[1m22s\u001b[0m 193ms/step - loss: 0.0024\n",
      "Epoch 41/50\n",
      "\u001b[1m112/112\u001b[0m \u001b[32m━━━━━━━━━━━━━━━━━━━━\u001b[0m\u001b[37m\u001b[0m \u001b[1m22s\u001b[0m 192ms/step - loss: 0.0026\n",
      "Epoch 42/50\n",
      "\u001b[1m112/112\u001b[0m \u001b[32m━━━━━━━━━━━━━━━━━━━━\u001b[0m\u001b[37m\u001b[0m \u001b[1m23s\u001b[0m 202ms/step - loss: 0.0024\n",
      "Epoch 43/50\n",
      "\u001b[1m112/112\u001b[0m \u001b[32m━━━━━━━━━━━━━━━━━━━━\u001b[0m\u001b[37m\u001b[0m \u001b[1m24s\u001b[0m 209ms/step - loss: 0.0023\n",
      "Epoch 44/50\n",
      "\u001b[1m112/112\u001b[0m \u001b[32m━━━━━━━━━━━━━━━━━━━━\u001b[0m\u001b[37m\u001b[0m \u001b[1m23s\u001b[0m 208ms/step - loss: 0.0023\n",
      "Epoch 45/50\n",
      "\u001b[1m112/112\u001b[0m \u001b[32m━━━━━━━━━━━━━━━━━━━━\u001b[0m\u001b[37m\u001b[0m \u001b[1m23s\u001b[0m 206ms/step - loss: 0.0023\n",
      "Epoch 46/50\n",
      "\u001b[1m112/112\u001b[0m \u001b[32m━━━━━━━━━━━━━━━━━━━━\u001b[0m\u001b[37m\u001b[0m \u001b[1m23s\u001b[0m 205ms/step - loss: 0.0023\n",
      "Epoch 47/50\n",
      "\u001b[1m112/112\u001b[0m \u001b[32m━━━━━━━━━━━━━━━━━━━━\u001b[0m\u001b[37m\u001b[0m \u001b[1m22s\u001b[0m 197ms/step - loss: 0.0024\n",
      "Epoch 48/50\n",
      "\u001b[1m112/112\u001b[0m \u001b[32m━━━━━━━━━━━━━━━━━━━━\u001b[0m\u001b[37m\u001b[0m \u001b[1m21s\u001b[0m 184ms/step - loss: 0.0022\n",
      "Epoch 49/50\n",
      "\u001b[1m112/112\u001b[0m \u001b[32m━━━━━━━━━━━━━━━━━━━━\u001b[0m\u001b[37m\u001b[0m \u001b[1m22s\u001b[0m 192ms/step - loss: 0.0025\n",
      "Epoch 50/50\n",
      "\u001b[1m112/112\u001b[0m \u001b[32m━━━━━━━━━━━━━━━━━━━━\u001b[0m\u001b[37m\u001b[0m \u001b[1m22s\u001b[0m 199ms/step - loss: 0.0024\n"
     ]
    },
    {
     "data": {
      "text/plain": [
       "<keras.src.callbacks.history.History at 0x1cdbcb2a120>"
      ]
     },
     "execution_count": 42,
     "metadata": {},
     "output_type": "execute_result"
    }
   ],
   "source": [
    "model.fit(x, y, epochs=50, verbose=1)"
   ]
  },
  {
   "cell_type": "code",
   "execution_count": 43,
   "id": "a8e8b81a-61d9-429c-894a-1ab175e89162",
   "metadata": {},
   "outputs": [],
   "source": [
    "test_data = pd.concat((train_data.tail(100),test_data),ignore_index=True)"
   ]
  },
  {
   "cell_type": "code",
   "execution_count": 44,
   "id": "04415bd3-fbce-42e8-b6cc-1dfb2fb998d1",
   "metadata": {},
   "outputs": [
    {
     "data": {
      "text/html": [
       "<div>\n",
       "<style scoped>\n",
       "    .dataframe tbody tr th:only-of-type {\n",
       "        vertical-align: middle;\n",
       "    }\n",
       "\n",
       "    .dataframe tbody tr th {\n",
       "        vertical-align: top;\n",
       "    }\n",
       "\n",
       "    .dataframe thead tr th {\n",
       "        text-align: left;\n",
       "    }\n",
       "</style>\n",
       "<table border=\"1\" class=\"dataframe\">\n",
       "  <thead>\n",
       "    <tr>\n",
       "      <th>Price</th>\n",
       "      <th>Close</th>\n",
       "    </tr>\n",
       "    <tr>\n",
       "      <th>Ticker</th>\n",
       "      <th>BTC-USD</th>\n",
       "    </tr>\n",
       "  </thead>\n",
       "  <tbody>\n",
       "    <tr>\n",
       "      <th>0</th>\n",
       "      <td>66191.000000</td>\n",
       "    </tr>\n",
       "    <tr>\n",
       "      <th>1</th>\n",
       "      <td>66639.046875</td>\n",
       "    </tr>\n",
       "    <tr>\n",
       "      <th>2</th>\n",
       "      <td>66490.296875</td>\n",
       "    </tr>\n",
       "    <tr>\n",
       "      <th>3</th>\n",
       "      <td>65140.746094</td>\n",
       "    </tr>\n",
       "    <tr>\n",
       "      <th>4</th>\n",
       "      <td>64960.296875</td>\n",
       "    </tr>\n",
       "    <tr>\n",
       "      <th>...</th>\n",
       "      <td>...</td>\n",
       "    </tr>\n",
       "    <tr>\n",
       "      <th>195</th>\n",
       "      <td>94164.859375</td>\n",
       "    </tr>\n",
       "    <tr>\n",
       "      <th>196</th>\n",
       "      <td>95163.929688</td>\n",
       "    </tr>\n",
       "    <tr>\n",
       "      <th>197</th>\n",
       "      <td>93530.226562</td>\n",
       "    </tr>\n",
       "    <tr>\n",
       "      <th>198</th>\n",
       "      <td>92643.210938</td>\n",
       "    </tr>\n",
       "    <tr>\n",
       "      <th>199</th>\n",
       "      <td>93429.203125</td>\n",
       "    </tr>\n",
       "  </tbody>\n",
       "</table>\n",
       "<p>200 rows × 1 columns</p>\n",
       "</div>"
      ],
      "text/plain": [
       "Price          Close\n",
       "Ticker       BTC-USD\n",
       "0       66191.000000\n",
       "1       66639.046875\n",
       "2       66490.296875\n",
       "3       65140.746094\n",
       "4       64960.296875\n",
       "..               ...\n",
       "195     94164.859375\n",
       "196     95163.929688\n",
       "197     93530.226562\n",
       "198     92643.210938\n",
       "199     93429.203125\n",
       "\n",
       "[200 rows x 1 columns]"
      ]
     },
     "execution_count": 44,
     "metadata": {},
     "output_type": "execute_result"
    }
   ],
   "source": [
    "test_data"
   ]
  },
  {
   "cell_type": "code",
   "execution_count": 45,
   "id": "979379b5-07c1-4403-8da7-40498ec8cbfb",
   "metadata": {},
   "outputs": [],
   "source": [
    "test_data_scale = scaler.transform(test_data)"
   ]
  },
  {
   "cell_type": "code",
   "execution_count": 46,
   "id": "b310f66b-1afd-4bec-839a-e2e92a069e23",
   "metadata": {},
   "outputs": [],
   "source": [
    "x = []\n",
    "y = []\n",
    "for i in range(base_days,train_data_scale.shape[0]):\n",
    "    x.append(train_data_scale[i-base_days:i])\n",
    "    y.append(train_data_scale[i,0])"
   ]
  },
  {
   "cell_type": "code",
   "execution_count": 47,
   "id": "fd68b26a-0775-4de3-bc9a-f8cccdeb67c8",
   "metadata": {},
   "outputs": [],
   "source": [
    "x, y = np.array(x), np.array(y)"
   ]
  },
  {
   "cell_type": "code",
   "execution_count": 48,
   "id": "527f23e8-8cc5-4e3e-8445-4724ece22ab5",
   "metadata": {},
   "outputs": [],
   "source": [
    "x = np.reshape(x, (x.shape[0], x.shape[1],1))"
   ]
  },
  {
   "cell_type": "code",
   "execution_count": 49,
   "id": "8a0af13d-8fc6-420b-80d7-3c1a32a65589",
   "metadata": {},
   "outputs": [
    {
     "name": "stdout",
     "output_type": "stream",
     "text": [
      "\u001b[1m112/112\u001b[0m \u001b[32m━━━━━━━━━━━━━━━━━━━━\u001b[0m\u001b[37m\u001b[0m \u001b[1m3s\u001b[0m 26ms/step\n"
     ]
    }
   ],
   "source": [
    "pred = model.predict(x)"
   ]
  },
  {
   "cell_type": "code",
   "execution_count": 50,
   "id": "feda55d9-9e81-4cc6-960b-fe0cea96c70e",
   "metadata": {},
   "outputs": [
    {
     "data": {
      "text/plain": [
       "array([[0.05368754],\n",
       "       [0.05367485],\n",
       "       [0.0536626 ],\n",
       "       ...,\n",
       "       [0.81082094],\n",
       "       [0.82011944],\n",
       "       [0.8301476 ]], shape=(3559, 1), dtype=float32)"
      ]
     },
     "execution_count": 50,
     "metadata": {},
     "output_type": "execute_result"
    }
   ],
   "source": [
    "pred "
   ]
  },
  {
   "cell_type": "code",
   "execution_count": 51,
   "id": "a7917456-b627-467a-98be-604c695894f7",
   "metadata": {},
   "outputs": [],
   "source": [
    "pred = scaler.inverse_transform(pred)"
   ]
  },
  {
   "cell_type": "code",
   "execution_count": 52,
   "id": "70ea883e-81b8-4b95-bc52-9ccd13589cbf",
   "metadata": {},
   "outputs": [
    {
     "data": {
      "text/plain": [
       "array([[ 4092.2146],\n",
       "       [ 4091.289 ],\n",
       "       [ 4090.396 ],\n",
       "       ...,\n",
       "       [59291.33  ],\n",
       "       [59969.24  ],\n",
       "       [60700.348 ]], shape=(3559, 1), dtype=float32)"
      ]
     },
     "execution_count": 52,
     "metadata": {},
     "output_type": "execute_result"
    }
   ],
   "source": [
    "pred"
   ]
  },
  {
   "cell_type": "code",
   "execution_count": 53,
   "id": "54aafd08-14f4-4668-8208-c693f713fcb6",
   "metadata": {},
   "outputs": [],
   "source": [
    "#future Bitcoin Price"
   ]
  },
  {
   "cell_type": "code",
   "execution_count": 54,
   "id": "443a2740-830e-48db-be30-b1a3f27452fa",
   "metadata": {},
   "outputs": [
    {
     "data": {
      "text/plain": [
       "array([0.00205501, 0.00188957, 0.00190845, ..., 0.86433757, 0.86710641,\n",
       "       0.87058861], shape=(3559,))"
      ]
     },
     "execution_count": 54,
     "metadata": {},
     "output_type": "execute_result"
    }
   ],
   "source": [
    "y"
   ]
  },
  {
   "cell_type": "code",
   "execution_count": 55,
   "id": "824a96b6-2657-4c8d-9ad7-71b247d893ca",
   "metadata": {},
   "outputs": [],
   "source": [
    "m = y.reshape(-1,1)   # ensure correct shape\n",
    "z = []\n",
    "\n",
    "future_days = 30\n",
    "last_sequence = m[-base_days:]  # take the last `base_days` values\n",
    "\n",
    "for i in range(future_days):\n",
    "    inter = last_sequence.reshape(1, base_days, 1)\n",
    "    pred = model.predict(inter, verbose=0)\n",
    "    z.append(pred[0][0])\n",
    "    \n",
    "    # update sequence for next prediction\n",
    "    last_sequence = np.append(last_sequence[1:], pred).reshape(-1,1)\n",
    "\n"
   ]
  },
  {
   "cell_type": "code",
   "execution_count": 56,
   "id": "1c05d214-50b6-4fb2-8c68-e4b7e06ec95e",
   "metadata": {},
   "outputs": [],
   "source": [
    "z = np.array(z)\n",
    "z = scaler.inverse_transform(z.reshape(-1,1))"
   ]
  },
  {
   "cell_type": "code",
   "execution_count": 57,
   "id": "15a97f04-0c58-401e-b197-cc14c2bcc1f6",
   "metadata": {},
   "outputs": [
    {
     "data": {
      "text/plain": [
       "array([[61298.16 ],\n",
       "       [61412.21 ],\n",
       "       [61110.45 ],\n",
       "       [60563.004],\n",
       "       [59939.863],\n",
       "       [59359.992],\n",
       "       [58881.91 ],\n",
       "       [58517.844],\n",
       "       [58253.098],\n",
       "       [58062.223],\n",
       "       [57919.445],\n",
       "       [57803.605],\n",
       "       [57699.61 ],\n",
       "       [57598.098],\n",
       "       [57494.215],\n",
       "       [57386.4  ],\n",
       "       [57275.113],\n",
       "       [57162.004],\n",
       "       [57049.066],\n",
       "       [56938.24 ],\n",
       "       [56831.113],\n",
       "       [56728.81 ],\n",
       "       [56631.96 ],\n",
       "       [56540.766],\n",
       "       [56455.125],\n",
       "       [56374.71 ],\n",
       "       [56299.25 ],\n",
       "       [56228.414],\n",
       "       [56161.816],\n",
       "       [56099.117]], dtype=float32)"
      ]
     },
     "execution_count": 57,
     "metadata": {},
     "output_type": "execute_result"
    }
   ],
   "source": [
    "z"
   ]
  },
  {
   "cell_type": "code",
   "execution_count": 58,
   "id": "e797fb52-14e2-40b2-a52d-df66941398af",
   "metadata": {},
   "outputs": [],
   "source": [
    "model.save('Bitcoin_Price_Prediction_Model.keras')"
   ]
  },
  {
   "cell_type": "code",
   "execution_count": null,
   "id": "f9d726d2-78c2-47b2-9cbf-127b0c48ff4c",
   "metadata": {},
   "outputs": [],
   "source": []
  }
 ],
 "metadata": {
  "kernelspec": {
   "display_name": "Python 3 (ipykernel)",
   "language": "python",
   "name": "python3"
  },
  "language_info": {
   "codemirror_mode": {
    "name": "ipython",
    "version": 3
   },
   "file_extension": ".py",
   "mimetype": "text/x-python",
   "name": "python",
   "nbconvert_exporter": "python",
   "pygments_lexer": "ipython3",
   "version": "3.13.3"
  }
 },
 "nbformat": 4,
 "nbformat_minor": 5
}
