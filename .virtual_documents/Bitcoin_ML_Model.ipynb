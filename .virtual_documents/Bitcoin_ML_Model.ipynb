import yfinance as yf
import pandas as pd
import numpy as np
import matplotlib.pyplot as plt


data = yf.download('BTC-USD', '2015-01-01', '2025-01-01', auto_adjust=False)


data=pd.DataFrame(data)


data


data.reset_index(inplace=True)


data


data.drop(columns=['Date','Adj Close','Open','Low','Volume'],inplace=True)


data


plt.figure(figsize=(8,10))
plt.plot(data)
plt.show


train_data = data[:-100]
test_data = data[-100:]


train_data.shape


test_data.shape


from sklearn.preprocessing import MinMaxScaler
scaler = MinMaxScaler(feature_range=(0,1))


train_data_scale = scaler.fit_transform(train_data)


base_days = 100


x = []
y = []
for i in range(base_days,train_data_scale.shape[0]):
    x.append(train_data_scale[i-base_days:i])
    y.append(train_data_scale[i,0])


x , y = np.array(x) , np.array(y)


x = np.reshape(x, (x.shape[0], x.shape[1],1))


from keras.layers import LSTM, Dense, Dropout
from keras.models import Sequential


model= Sequential()
model.add(LSTM(50, activation = 'relu', return_sequences=True, input_shape=(x.shape[1],1)))
model.add(Dropout(0.2))
model.add(LSTM(60, activation = 'relu', return_sequences=True))
model.add(Dropout(0.3))
model.add(LSTM(80, activation = 'relu', return_sequences=True))
model.add(Dropout(0.4))
model.add(LSTM(120, activation = 'relu'))
model.add(Dropout(0.5))

model.add(Dense(units=1))


model.summary()


model.compile(optimizer = 'adam' , loss='mean_squared_error')


model.fit(x, y, epochs=50, verbose=1)


test_data = pd.concat((train_data.tail(100),test_data),ignore_index=True)


test_data


test_data_scale = scaler.transform(test_data)


x = []
y = []
for i in range(base_days,train_data_scale.shape[0]):
    x.append(train_data_scale[i-base_days:i])
    y.append(train_data_scale[i,0])


x, y = np.array(x), np.array(y)


x = np.reshape(x, (x.shape[0], x.shape[1],1))


pred = model.predict(x)


pred 


pred = scaler.inverse_transform(pred)


pred


#future Bitcoin Price


y


m = y.reshape(-1,1)   # ensure correct shape
z = []

future_days = 30
last_sequence = m[-base_days:]  # take the last `base_days` values

for i in range(future_days):
    inter = last_sequence.reshape(1, base_days, 1)
    pred = model.predict(inter, verbose=0)
    z.append(pred[0][0])
    
    # update sequence for next prediction
    last_sequence = np.append(last_sequence[1:], pred).reshape(-1,1)




z = np.array(z)
z = scaler.inverse_transform(z.reshape(-1,1))


z


model.save('Bitcoin_Price_Prediction_Model.keras')
